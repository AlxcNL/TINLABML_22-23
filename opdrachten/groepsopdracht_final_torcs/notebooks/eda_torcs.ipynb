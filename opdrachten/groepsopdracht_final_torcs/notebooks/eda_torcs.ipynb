{
 "cells": [
  {
   "cell_type": "code",
   "execution_count": null,
   "metadata": {
    "id": "Bl3yLOUmbP5T"
   },
   "outputs": [],
   "source": [
    "from pathlib import Path\n",
    "import matplotlib.pyplot as plt\n",
    "import numpy as np\n",
    "import pandas as pd\n",
    "import seaborn as sns\n",
    "%matplotlib inline     \n",
    "sns.set(color_codes=True)"
   ]
  },
  {
   "cell_type": "code",
   "execution_count": null,
   "metadata": {
    "id": "X-Fbe3oLdxx8"
   },
   "outputs": [],
   "source": [
    "# Import data\n",
    "dfCollected = pd.read_csv(\"../torcs-ai_client_examples/scr-client-cpp/data/aalborg_2023-05-20.csv\", sep=\";\")"
   ]
  },
  {
   "cell_type": "code",
   "execution_count": null,
   "metadata": {
    "id": "IMqPADPrcARh"
   },
   "outputs": [],
   "source": [
    "# To display the top 10 rows\n",
    "dfCollected.head(10)"
   ]
  },
  {
   "cell_type": "code",
   "execution_count": null,
   "metadata": {},
   "outputs": [],
   "source": [
    "dfCollected['a_acceleration'].unique()"
   ]
  },
  {
   "cell_type": "code",
   "execution_count": null,
   "metadata": {
    "id": "30cV_0spdgYQ"
   },
   "outputs": [],
   "source": [
    "# To display last 5 rows\n",
    "dfColuniqueted.tail()"
   ]
  },
  {
   "cell_type": "code",
   "execution_count": null,
   "metadata": {
    "id": "yjc7anKOdqoV"
   },
   "outputs": [],
   "source": [
    "# Check data\n",
    "dfCollected.info()"
   ]
  },
  {
   "cell_type": "code",
   "execution_count": null,
   "metadata": {
    "colab": {
     "base_uri": "https://localhost:8080/",
     "height": 297
    },
    "id": "CLibRdEwd8-L",
    "outputId": "d4bdb8c9-fb59-4670-a4ee-fffcf6861ac2"
   },
   "outputs": [],
   "source": [
    "# Check data some more\n",
    "dfCollected.describe()"
   ]
  },
  {
   "cell_type": "code",
   "execution_count": null,
   "metadata": {
    "colab": {
     "base_uri": "https://localhost:8080/",
     "height": 204
    },
    "id": "nzLW79xQjCeu",
    "outputId": "e86f7b7a-d6a9-44c2-af1b-ca0d2633c400"
   },
   "outputs": [],
   "source": [
    "# Drop some columns\n",
    "dfSelected = dfCollected[\n",
    "    ['s_speed_x', 's_speed_y','s_speed_z','s_angle','s_track_position', 'a_acceleration', 'a_brake', 'a_steer']\n",
    "]\n",
    "\n",
    "dfSelected.head()"
   ]
  },
  {
   "cell_type": "code",
   "execution_count": null,
   "metadata": {
    "colab": {
     "base_uri": "https://localhost:8080/"
    },
    "id": "UBkT-ixm4AUV",
    "outputId": "7baf3da9-f4b2-4c07-faa9-ca94c1c24694"
   },
   "outputs": [],
   "source": [
    "# Any missing values?\n",
    "print(dfSelected.isnull().sum())"
   ]
  },
  {
   "cell_type": "code",
   "execution_count": null,
   "metadata": {
    "colab": {
     "base_uri": "https://localhost:8080/",
     "height": 302
    },
    "id": "vB4r0Hzv57Sn",
    "outputId": "2130a1e3-f370-4063-881d-243d8c63bb31"
   },
   "outputs": [],
   "source": [
    "#Got any outliers?\n",
    "sns.boxplot(x=dfSelected['s_speed_x'])"
   ]
  }
 ],
 "metadata": {
  "colab": {
   "provenance": []
  },
  "kernelspec": {
   "display_name": "Python 3 (ipykernel)",
   "language": "python",
   "name": "python3"
  },
  "language_info": {
   "codemirror_mode": {
    "name": "ipython",
    "version": 3
   },
   "file_extension": ".py",
   "mimetype": "text/x-python",
   "name": "python",
   "nbconvert_exporter": "python",
   "pygments_lexer": "ipython3",
   "version": "3.10.9"
  }
 },
 "nbformat": 4,
 "nbformat_minor": 4
}
