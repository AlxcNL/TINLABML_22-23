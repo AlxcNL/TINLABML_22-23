{
 "cells": [
  {
   "cell_type": "markdown",
   "id": "9f460c00-ae32-4b88-b51d-9b978a7fb1fd",
   "metadata": {
    "tags": []
   },
   "source": [
    "<div>\n",
    "    <img src='pics/banner.PNG'/>\n",
    "</div>\n",
    "<div>\n",
    "    <img width=\"20%\" height=\"20%\" src='pics/tinlab.png'/>\n",
    "</div>\n",
    "<div>\n",
    "    <em>Author: Jeroen Boogaard</em>\n",
    "</div>"
   ]
  },
  {
   "cell_type": "markdown",
   "id": "e888836c-5e9a-4b75-8d4d-471aa253426c",
   "metadata": {},
   "source": [
    "# Principal Component Analysis"
   ]
  },
  {
   "cell_type": "markdown",
   "id": "1c49f9ae-67fa-4fa4-bb83-08b16437e991",
   "metadata": {},
   "source": [
    "## Imports"
   ]
  },
  {
   "cell_type": "code",
   "execution_count": null,
   "id": "84eb6b10-8bee-4a7c-a17b-dcff3981c4f7",
   "metadata": {
    "tags": []
   },
   "outputs": [],
   "source": [
    "# import matplotlib.pyplot as plt\n",
    "import numpy as np\n",
    "import pandas as pd\n",
    "import seaborn as sns\n",
    "from pathlib import Path\n",
    "from sklearn.decomposition import PCA\n",
    "from sklearn.preprocessing import StandardScaler"
   ]
  },
  {
   "cell_type": "markdown",
   "id": "8b5ba7d3-f477-4b4b-acb7-4ac0ae2906a2",
   "metadata": {},
   "source": [
    "### Global Variables"
   ]
  },
  {
   "cell_type": "code",
   "execution_count": null,
   "id": "dcf43170-6b97-485d-8ef6-61de783cedda",
   "metadata": {
    "tags": []
   },
   "outputs": [],
   "source": [
    "dataPath = Path(\"csv\")\n",
    "csvFile = \"forza_2023-05-19.csv\""
   ]
  },
  {
   "cell_type": "markdown",
   "id": "a20456e1-b642-414d-a284-6249ce951a69",
   "metadata": {},
   "source": [
    "### Data Collection"
   ]
  },
  {
   "cell_type": "code",
   "execution_count": null,
   "id": "5f13f949-9a91-4f8a-a846-7994852c8702",
   "metadata": {
    "tags": []
   },
   "outputs": [],
   "source": [
    "csvFile = Path.joinpath(dataPath, csvFile)\n",
    "dfCollected = pd.read_csv(csvFile, sep=';', header=0)"
   ]
  },
  {
   "cell_type": "markdown",
   "id": "74d86674-c3b9-49ad-bc5a-fd39a0a5dec0",
   "metadata": {
    "tags": []
   },
   "source": [
    "### Data Inspection"
   ]
  },
  {
   "cell_type": "code",
   "execution_count": null,
   "id": "22533d7c-d259-4332-9165-29ed0008227a",
   "metadata": {
    "tags": []
   },
   "outputs": [],
   "source": [
    "dfCollected.head()"
   ]
  },
  {
   "cell_type": "code",
   "execution_count": null,
   "id": "65ecde3e-4fee-4f9b-acfe-ea072b0b48c2",
   "metadata": {
    "tags": []
   },
   "outputs": [],
   "source": [
    "dfCollected.tail()"
   ]
  },
  {
   "cell_type": "markdown",
   "id": "a41130a6-fc5f-411e-bb0e-ab1b93de79a1",
   "metadata": {},
   "source": [
    "### Feature Selection"
   ]
  },
  {
   "cell_type": "code",
   "execution_count": null,
   "id": "10917809-191b-427b-a1ac-b1a57c1d3147",
   "metadata": {
    "tags": []
   },
   "outputs": [],
   "source": [
    "features = [\"s_speed_x\", \"s_speed_y\", \"s_rpm\", \"s_gear\", \"s_angle\", \"s_z\", \"s_distance_raced\", \"s_distance_from_start\", \"s_current_laptime\", \"s_last_laptime\"]\n",
    "targets = [\"a_accelation\", \"a_steer\"]\n",
    "\n",
    "dfSelected = dfCollected.loc[:, features+targets]\n",
    "\n",
    "# Feature vectors\n",
    "X = dfSelected.loc[27000:, \"s_angle\"].values\n",
    "\n",
    "# Target vector\n",
    "y = dfSelected.loc[27000:, \"a_steer\"].values\n",
    "\n",
    "y\n",
    "# X[:,0].shape\n",
    "# dfSelected.head()"
   ]
  },
  {
   "cell_type": "markdown",
   "id": "454da576-19b4-46ee-b5dc-21ba4d4d9997",
   "metadata": {},
   "source": [
    "#### Data Normalization"
   ]
  },
  {
   "cell_type": "code",
   "execution_count": null,
   "id": "23a89d80-45b0-44f7-9e84-29f7a573b70b",
   "metadata": {
    "tags": []
   },
   "outputs": [],
   "source": [
    "# Standardizing the features\n",
    "\n",
    "# Standardizing the features\n",
    "# X = StandardScaler().fit_transform(X)\n",
    "\n",
    "# Standardizing the target\n",
    "# y = StandardScaler().fit_transform(y)"
   ]
  },
  {
   "cell_type": "markdown",
   "id": "20967187-c086-428b-b5b0-413451f226c0",
   "metadata": {},
   "source": [
    "### Data Visualization"
   ]
  },
  {
   "cell_type": "code",
   "execution_count": null,
   "id": "187d5faa-e069-414f-98ba-209d01a1685b",
   "metadata": {
    "tags": []
   },
   "outputs": [],
   "source": [
    "# sns.scatterplot(data=dfSelected, x=\"s_angle\", y=\"a_steer\")\n",
    "plt.scatter(X, y)"
   ]
  },
  {
   "cell_type": "code",
   "execution_count": null,
   "id": "5a957432-a86c-4a1a-bd20-c0384a0c0126",
   "metadata": {
    "tags": []
   },
   "outputs": [],
   "source": [
    "pca = PCA(n_components=2)\n",
    "\n",
    "principalComponents = pca.fit_transform(x)\n",
    "\n",
    "principalDf = pd.DataFrame(data = principalComponents\n",
    "             , columns = ['principal component 1', 'principal component 2'])\n",
    "finalDf = pd.concat([principalDf, df[['target']]], axis = 1)"
   ]
  },
  {
   "cell_type": "code",
   "execution_count": null,
   "id": "dcce26c4-e490-4f05-95cb-4b78a18df1e1",
   "metadata": {
    "tags": []
   },
   "outputs": [],
   "source": [
    "fig = plt.figure(figsize = (8,8))\n",
    "ax = fig.add_subplot(1,1,1) \n",
    "ax.set_xlabel('Principal Component 1', fontsize = 15)\n",
    "ax.set_ylabel('Principal Component 2', fontsize = 15)\n",
    "ax.set_title('2 component PCA', fontsize = 20)\n",
    "\n",
    "targets = ['Iris-setosa', 'Iris-versicolor', 'Iris-virginica']\n",
    "colors = ['r', 'g', 'b']\n",
    "for target, color in zip(targets,colors):\n",
    "    indicesToKeep = finalDf['target'] == target\n",
    "    ax.scatter(finalDf.loc[indicesToKeep, 'principal component 1']\n",
    "               , finalDf.loc[indicesToKeep, 'principal component 2']\n",
    "               , c = color\n",
    "               , s = 50)\n",
    "ax.legend(targets)\n",
    "ax.grid()"
   ]
  },
  {
   "cell_type": "raw",
   "id": "0505d5f6-5a40-4fe8-a6b8-ffa5b2492ccf",
   "metadata": {},
   "source": [
    "https://builtin.com/machine-learning/pca-in-python"
   ]
  }
 ],
 "metadata": {
  "kernelspec": {
   "display_name": "Python 3 (ipykernel)",
   "language": "python",
   "name": "python3"
  },
  "language_info": {
   "codemirror_mode": {
    "name": "ipython",
    "version": 3
   },
   "file_extension": ".py",
   "mimetype": "text/x-python",
   "name": "python",
   "nbconvert_exporter": "python",
   "pygments_lexer": "ipython3",
   "version": "3.10.5"
  }
 },
 "nbformat": 4,
 "nbformat_minor": 5
}
